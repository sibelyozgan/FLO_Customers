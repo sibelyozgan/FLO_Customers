{
 "cells": [
  {
   "cell_type": "markdown",
   "metadata": {},
   "source": [
    "# IS PROBLEMI\n",
    "\n",
    "FLO müşterilerini segmentlere ayırıp bu segmentlere göre pazarlama stratejileri belirlemek istiyor. Buna yönelik olarak müşterilerin davranışları tanımlanacak ve bu davranışlardaki öbeklenmelere göre gruplar oluşturulacak.\n"
   ]
  },
  {
   "cell_type": "code",
   "execution_count": 1,
   "metadata": {},
   "outputs": [
    {
     "name": "stdout",
     "output_type": "stream",
     "text": [
      "Found 5 items\r\n",
      "-rw-r--r--   1 train supergroup       4556 2020-09-23 20:56 /user/train/datasets/Advertising.csv\r\n",
      "-rw-r--r--   1 train supergroup    7077973 2022-09-07 17:46 /user/train/datasets/airbnb_data.csv\r\n",
      "drwxr-xr-x   - train supergroup          0 2020-11-19 21:02 /user/train/datasets/churn-telecom\r\n",
      "-rw-r--r--   1 train supergroup   19422619 2022-09-28 08:34 /user/train/datasets/flo100k_data.csv\r\n",
      "drwxr-xr-x   - train supergroup          0 2020-11-21 11:16 /user/train/datasets/retail_db\r\n"
     ]
    }
   ],
   "source": [
    "! hdfs dfs -ls /user/train/datasets"
   ]
  },
  {
   "cell_type": "code",
   "execution_count": 2,
   "metadata": {},
   "outputs": [],
   "source": [
    "! hdfs dfs -put /home/train/datasets/flo100k_data.csv/ /user/train/datasets"
   ]
  },
  {
   "cell_type": "code",
   "execution_count": 9,
   "metadata": {},
   "outputs": [
    {
     "name": "stdout",
     "output_type": "stream",
     "text": [
      "Advertising.csv  churn-telecom\t   iris.csv\r\n",
      "airbnb_data.csv  flo100k_data.csv  retail_db\r\n"
     ]
    }
   ],
   "source": [
    "!ls \"/home/train/datasets\""
   ]
  },
  {
   "cell_type": "markdown",
   "metadata": {},
   "source": [
    "## Import Libraries"
   ]
  },
  {
   "cell_type": "code",
   "execution_count": 2,
   "metadata": {},
   "outputs": [],
   "source": [
    "import findspark"
   ]
  },
  {
   "cell_type": "code",
   "execution_count": 3,
   "metadata": {},
   "outputs": [],
   "source": [
    "findspark.init(\"/opt/manual/spark\")"
   ]
  },
  {
   "cell_type": "code",
   "execution_count": 4,
   "metadata": {},
   "outputs": [],
   "source": [
    "from pyspark.sql import SparkSession, functions as F"
   ]
  },
  {
   "cell_type": "code",
   "execution_count": 5,
   "metadata": {},
   "outputs": [],
   "source": [
    "import pandas as pd"
   ]
  },
  {
   "cell_type": "code",
   "execution_count": 8,
   "metadata": {},
   "outputs": [],
   "source": [
    "spark= (\n",
    "SparkSession.builder\n",
    "    .appName(\"Flo Customer Segmentation\")\n",
    "    .master(\"yarn\")\n",
    "    .config(\"spark.sql.shuffle.partitions\",\"2\")\n",
    "    .getOrCreate()\n",
    ")"
   ]
  },
  {
   "cell_type": "markdown",
   "metadata": {},
   "source": [
    "## Read Data"
   ]
  },
  {
   "cell_type": "code",
   "execution_count": 9,
   "metadata": {},
   "outputs": [],
   "source": [
    "# Not:Veriyi infer Schema True olacak sekilde okutunuz, ilgili csv dosyasına göre delimiter seçiniz\n",
    "\n",
    "df =(spark.read.format(\"csv\")\n",
    "     .option(\"header\", True)\n",
    "     .option(\"delimiter\", \"|\")\n",
    "     .option(\"inferSchema\", True)\n",
    "     .load(\"/user/train/datasets/flo100k_data.csv\"))"
   ]
  },
  {
   "cell_type": "code",
   "execution_count": 8,
   "metadata": {},
   "outputs": [
    {
     "data": {
      "text/plain": [
       "DataFrame[|master_id|order_channel|platform_type|last_order_channel|first_order_date|last_order_date|last_order_date_online|last_order_date_offline|order_num_total_ever_online|order_num_total_ever_offline|customer_value_total_ever_offline|customer_value_total_ever_online|interested_in_categories_12|last_order_date_new: string]"
      ]
     },
     "execution_count": 8,
     "metadata": {},
     "output_type": "execute_result"
    }
   ],
   "source": [
    "#df.persist()"
   ]
  },
  {
   "cell_type": "code",
   "execution_count": 9,
   "metadata": {},
   "outputs": [],
   "source": [
    "#pd.set_option('display.max_columns', None)\n",
    "#pd.set_option('display.max_rows', None)"
   ]
  },
  {
   "cell_type": "code",
   "execution_count": 10,
   "metadata": {},
   "outputs": [
    {
     "data": {
      "text/html": [
       "<div>\n",
       "<style scoped>\n",
       "    .dataframe tbody tr th:only-of-type {\n",
       "        vertical-align: middle;\n",
       "    }\n",
       "\n",
       "    .dataframe tbody tr th {\n",
       "        vertical-align: top;\n",
       "    }\n",
       "\n",
       "    .dataframe thead th {\n",
       "        text-align: right;\n",
       "    }\n",
       "</style>\n",
       "<table border=\"1\" class=\"dataframe\">\n",
       "  <thead>\n",
       "    <tr style=\"text-align: right;\">\n",
       "      <th></th>\n",
       "      <th>_c0</th>\n",
       "      <th>master_id</th>\n",
       "      <th>order_channel</th>\n",
       "      <th>platform_type</th>\n",
       "      <th>last_order_channel</th>\n",
       "      <th>first_order_date</th>\n",
       "      <th>last_order_date</th>\n",
       "      <th>last_order_date_online</th>\n",
       "      <th>last_order_date_offline</th>\n",
       "      <th>order_num_total_ever_online</th>\n",
       "      <th>order_num_total_ever_offline</th>\n",
       "      <th>customer_value_total_ever_offline</th>\n",
       "      <th>customer_value_total_ever_online</th>\n",
       "      <th>interested_in_categories_12</th>\n",
       "      <th>last_order_date_new</th>\n",
       "    </tr>\n",
       "  </thead>\n",
       "  <tbody>\n",
       "    <tr>\n",
       "      <th>0</th>\n",
       "      <td>0</td>\n",
       "      <td>b3ace094-a17f-11e9-a2fc-000d3a38a36f</td>\n",
       "      <td>Offline</td>\n",
       "      <td>Offline</td>\n",
       "      <td>Offline</td>\n",
       "      <td>2019-02-23 12:59:17</td>\n",
       "      <td>2019-02-23 12:59:17</td>\n",
       "      <td>NaT</td>\n",
       "      <td>2019-02-23 12:59:17</td>\n",
       "      <td>NaN</td>\n",
       "      <td>1.0</td>\n",
       "      <td>212.98</td>\n",
       "      <td>0.00</td>\n",
       "      <td>None</td>\n",
       "      <td>2019-02-23</td>\n",
       "    </tr>\n",
       "    <tr>\n",
       "      <th>1</th>\n",
       "      <td>1</td>\n",
       "      <td>c57d7c4c-a950-11e9-a2fc-000d3a38a36f</td>\n",
       "      <td>Offline</td>\n",
       "      <td>OmniChannel</td>\n",
       "      <td>Offline</td>\n",
       "      <td>2019-12-01 16:48:09</td>\n",
       "      <td>2019-12-01 16:48:09</td>\n",
       "      <td>NaT</td>\n",
       "      <td>2019-12-01 16:48:09</td>\n",
       "      <td>NaN</td>\n",
       "      <td>1.0</td>\n",
       "      <td>199.98</td>\n",
       "      <td>0.00</td>\n",
       "      <td>None</td>\n",
       "      <td>2019-12-01</td>\n",
       "    </tr>\n",
       "    <tr>\n",
       "      <th>2</th>\n",
       "      <td>2</td>\n",
       "      <td>602897a6-cdac-11ea-b31f-000d3a38a36f</td>\n",
       "      <td>Offline</td>\n",
       "      <td>Offline</td>\n",
       "      <td>Offline</td>\n",
       "      <td>2020-07-24 15:49:47</td>\n",
       "      <td>2020-07-24 15:49:47</td>\n",
       "      <td>NaT</td>\n",
       "      <td>2020-07-24 15:49:47</td>\n",
       "      <td>NaN</td>\n",
       "      <td>1.0</td>\n",
       "      <td>140.49</td>\n",
       "      <td>0.00</td>\n",
       "      <td>[ERKEK]</td>\n",
       "      <td>2020-07-24</td>\n",
       "    </tr>\n",
       "    <tr>\n",
       "      <th>3</th>\n",
       "      <td>3</td>\n",
       "      <td>388e4c4e-af86-11e9-a2fc-000d3a38a36f</td>\n",
       "      <td>Mobile</td>\n",
       "      <td>Online</td>\n",
       "      <td>Mobile</td>\n",
       "      <td>2018-12-31 07:22:07</td>\n",
       "      <td>2018-12-31 07:22:07</td>\n",
       "      <td>2018-12-31 07:22:07</td>\n",
       "      <td>NaT</td>\n",
       "      <td>1.0</td>\n",
       "      <td>NaN</td>\n",
       "      <td>0.00</td>\n",
       "      <td>174.99</td>\n",
       "      <td>None</td>\n",
       "      <td>2018-12-31</td>\n",
       "    </tr>\n",
       "    <tr>\n",
       "      <th>4</th>\n",
       "      <td>4</td>\n",
       "      <td>80664354-adf0-11eb-8f64-000d3a299ebf</td>\n",
       "      <td>Desktop</td>\n",
       "      <td>Online</td>\n",
       "      <td>Desktop</td>\n",
       "      <td>2021-05-05 21:07:02</td>\n",
       "      <td>2021-05-05 22:39:36</td>\n",
       "      <td>2021-05-05 22:39:36</td>\n",
       "      <td>NaT</td>\n",
       "      <td>2.0</td>\n",
       "      <td>NaN</td>\n",
       "      <td>0.00</td>\n",
       "      <td>283.95</td>\n",
       "      <td>[]</td>\n",
       "      <td>2021-05-05</td>\n",
       "    </tr>\n",
       "  </tbody>\n",
       "</table>\n",
       "</div>"
      ],
      "text/plain": [
       "   _c0                             master_id order_channel platform_type  \\\n",
       "0    0  b3ace094-a17f-11e9-a2fc-000d3a38a36f       Offline       Offline   \n",
       "1    1  c57d7c4c-a950-11e9-a2fc-000d3a38a36f       Offline   OmniChannel   \n",
       "2    2  602897a6-cdac-11ea-b31f-000d3a38a36f       Offline       Offline   \n",
       "3    3  388e4c4e-af86-11e9-a2fc-000d3a38a36f        Mobile        Online   \n",
       "4    4  80664354-adf0-11eb-8f64-000d3a299ebf       Desktop        Online   \n",
       "\n",
       "  last_order_channel    first_order_date     last_order_date  \\\n",
       "0            Offline 2019-02-23 12:59:17 2019-02-23 12:59:17   \n",
       "1            Offline 2019-12-01 16:48:09 2019-12-01 16:48:09   \n",
       "2            Offline 2020-07-24 15:49:47 2020-07-24 15:49:47   \n",
       "3             Mobile 2018-12-31 07:22:07 2018-12-31 07:22:07   \n",
       "4            Desktop 2021-05-05 21:07:02 2021-05-05 22:39:36   \n",
       "\n",
       "  last_order_date_online last_order_date_offline  order_num_total_ever_online  \\\n",
       "0                    NaT     2019-02-23 12:59:17                          NaN   \n",
       "1                    NaT     2019-12-01 16:48:09                          NaN   \n",
       "2                    NaT     2020-07-24 15:49:47                          NaN   \n",
       "3    2018-12-31 07:22:07                     NaT                          1.0   \n",
       "4    2021-05-05 22:39:36                     NaT                          2.0   \n",
       "\n",
       "   order_num_total_ever_offline  customer_value_total_ever_offline  \\\n",
       "0                           1.0                             212.98   \n",
       "1                           1.0                             199.98   \n",
       "2                           1.0                             140.49   \n",
       "3                           NaN                               0.00   \n",
       "4                           NaN                               0.00   \n",
       "\n",
       "   customer_value_total_ever_online interested_in_categories_12  \\\n",
       "0                              0.00                        None   \n",
       "1                              0.00                        None   \n",
       "2                              0.00                     [ERKEK]   \n",
       "3                            174.99                        None   \n",
       "4                            283.95                          []   \n",
       "\n",
       "  last_order_date_new  \n",
       "0          2019-02-23  \n",
       "1          2019-12-01  \n",
       "2          2020-07-24  \n",
       "3          2018-12-31  \n",
       "4          2021-05-05  "
      ]
     },
     "execution_count": 10,
     "metadata": {},
     "output_type": "execute_result"
    }
   ],
   "source": [
    "#İlk 5 gözlemini\n",
    "df.limit(5).toPandas()"
   ]
  },
  {
   "cell_type": "code",
   "execution_count": 11,
   "metadata": {},
   "outputs": [
    {
     "name": "stdout",
     "output_type": "stream",
     "text": [
      "100000\n"
     ]
    }
   ],
   "source": [
    "# Toplam gözlem sayısını\n",
    "df_count =df.count()\n",
    "print(df_count)"
   ]
  },
  {
   "cell_type": "code",
   "execution_count": 12,
   "metadata": {},
   "outputs": [
    {
     "name": "stdout",
     "output_type": "stream",
     "text": [
      "15\n"
     ]
    }
   ],
   "source": [
    "# Toplam değişken sayısını\n",
    "print(len(df.columns))"
   ]
  },
  {
   "cell_type": "code",
   "execution_count": 13,
   "metadata": {},
   "outputs": [
    {
     "data": {
      "text/plain": [
       "[('_c0', 'int'),\n",
       " ('master_id', 'string'),\n",
       " ('order_channel', 'string'),\n",
       " ('platform_type', 'string'),\n",
       " ('last_order_channel', 'string'),\n",
       " ('first_order_date', 'timestamp'),\n",
       " ('last_order_date', 'timestamp'),\n",
       " ('last_order_date_online', 'timestamp'),\n",
       " ('last_order_date_offline', 'timestamp'),\n",
       " ('order_num_total_ever_online', 'double'),\n",
       " ('order_num_total_ever_offline', 'double'),\n",
       " ('customer_value_total_ever_offline', 'double'),\n",
       " ('customer_value_total_ever_online', 'double'),\n",
       " ('interested_in_categories_12', 'string'),\n",
       " ('last_order_date_new', 'string')]"
      ]
     },
     "execution_count": 13,
     "metadata": {},
     "output_type": "execute_result"
    }
   ],
   "source": [
    "# Değişken tiplerini inceleyiniz\n",
    "df.dtypes"
   ]
  },
  {
   "cell_type": "markdown",
   "metadata": {},
   "source": [
    "### Adım 3: Eksik Gözlemler\n",
    "\n",
    "- Veri setindekideğişkenlerineksikgözlemleriniinceleyiniz"
   ]
  },
  {
   "cell_type": "code",
   "execution_count": 14,
   "metadata": {},
   "outputs": [],
   "source": [
    "def null_count(df, col_name):\n",
    "    nc = df.select(col_name).filter(\n",
    "    (F.col(col_name) == \"NA\") |\n",
    "    (F.col(col_name) == \"\" )|\n",
    "    (F.col(col_name).isNull())\n",
    "    ).count()\n",
    "    \n",
    "    return nc"
   ]
  },
  {
   "cell_type": "code",
   "execution_count": 17,
   "metadata": {},
   "outputs": [
    {
     "name": "stdout",
     "output_type": "stream",
     "text": [
      "last_order_date_online has 70784 % 70.784 missing values\n",
      "last_order_date_offline has 21703 % 21.703 missing values\n",
      "order_num_total_ever_online has 70784 % 70.784 missing values\n",
      "order_num_total_ever_offline has 21703 % 21.703 missing values\n",
      "interested_in_categories_12 has 56590 % 56.589999999999996 missing values\n"
     ]
    }
   ],
   "source": [
    "for col_name in df.dtypes:\n",
    "    nc = null_count(df, col_name[0])\n",
    "    if nc > 0:\n",
    "        print(\"{} has {} % {} missing values\".format(col_name[0], nc, (nc/df_count) * 100))\n",
    "        "
   ]
  },
  {
   "cell_type": "markdown",
   "metadata": {},
   "source": [
    "## Veri analizi\n",
    "\n",
    "Adım 1: UniqueDeğişken Kontrolü\n",
    "- master_id değişkeninin unique olup olmadığını kontrol ediniz"
   ]
  },
  {
   "cell_type": "code",
   "execution_count": 20,
   "metadata": {},
   "outputs": [
    {
     "data": {
      "text/plain": [
       "100000"
      ]
     },
     "execution_count": 20,
     "metadata": {},
     "output_type": "execute_result"
    }
   ],
   "source": [
    "df.select(\"master_id\").distinct().count()"
   ]
  },
  {
   "cell_type": "markdown",
   "metadata": {},
   "source": [
    "## Adım 2: Veriyi Anlama –Groupby\n",
    "\n",
    "- platform_type & order_channel kırılımında gözlem sayılarına bakınız"
   ]
  },
  {
   "cell_type": "code",
   "execution_count": 19,
   "metadata": {},
   "outputs": [
    {
     "name": "stdout",
     "output_type": "stream",
     "text": [
      "+-------------+-------------+-----+\n",
      "|platform_type|order_channel|count|\n",
      "+-------------+-------------+-----+\n",
      "|  OmniChannel|      Offline| 4793|\n",
      "|       Online|      Ios App| 3008|\n",
      "|  OmniChannel|      Desktop| 1498|\n",
      "|      Offline|      Offline|65991|\n",
      "|       Online|  Android App| 8728|\n",
      "|       Online|      Desktop| 3253|\n",
      "|  OmniChannel|       Mobile| 2061|\n",
      "|       Online|       Mobile| 6451|\n",
      "|  OmniChannel|  Android App| 3261|\n",
      "|  OmniChannel|      Ios App|  956|\n",
      "+-------------+-------------+-----+\n",
      "\n"
     ]
    }
   ],
   "source": [
    "df.groupby(['platform_type', 'order_channel']).count().show()"
   ]
  },
  {
   "cell_type": "markdown",
   "metadata": {},
   "source": [
    "## Adım 3: Omnichannel\n",
    "\n",
    "Omnichannel müşterilerin hem online hem de offline platformlardan alışveriş yaptığını ifade etmektedir.\n",
    "\n",
    "Herbir müşterinin toplam alışveriş sayısı ve harcaması için yeni değişkenler oluşturunuz.\n",
    "\n",
    "- toplam alışveriş sayısı için değişken ismini order_num_total yapınız.\n",
    "- toplam harcama için değişken ismini customer_value_total yapınız\n",
    "\n",
    "**Not:** Yeni değişkenleri oluşturmadan önce bu değişkenlerin null değerlerini sıfıra ceviriniz ve tüm değerlerinin sıfıra eşit veya büyük olduğuna emin olunuz."
   ]
  },
  {
   "cell_type": "code",
   "execution_count": null,
   "metadata": {},
   "outputs": [],
   "source": [
    "order_num_total_ever_online\n",
    "order_num_total_ever_offline"
   ]
  },
  {
   "cell_type": "code",
   "execution_count": 23,
   "metadata": {},
   "outputs": [],
   "source": [
    "#change nan values to 0\n",
    "\n",
    "df = df.na.fill(value=0, \n",
    "         subset= ['order_num_total_ever_online', 'order_num_total_ever_offline', 'customer_value_total_ever_online',\n",
    "                 'customer_value_total_ever_offline'])"
   ]
  },
  {
   "cell_type": "code",
   "execution_count": 28,
   "metadata": {},
   "outputs": [],
   "source": [
    "#yukaridaki degisiklikten emmin olmak icin\n",
    "df = df.filter((df.order_num_total_ever_online >= 0) &\n",
    "          (df.order_num_total_ever_offline >= 0) &\n",
    "          (df.customer_value_total_ever_online >= 0) &\n",
    "          (df.customer_value_total_ever_offline >= 0)\n",
    "         )"
   ]
  },
  {
   "cell_type": "code",
   "execution_count": 29,
   "metadata": {},
   "outputs": [
    {
     "data": {
      "text/plain": [
       "100000"
      ]
     },
     "execution_count": 29,
     "metadata": {},
     "output_type": "execute_result"
    }
   ],
   "source": [
    "df.count()"
   ]
  },
  {
   "cell_type": "code",
   "execution_count": 31,
   "metadata": {},
   "outputs": [],
   "source": [
    "df = df.withColumn(\"order_num_total\",\n",
    "              df.order_num_total_ever_online + df.order_num_total_ever_offline)"
   ]
  },
  {
   "cell_type": "code",
   "execution_count": 32,
   "metadata": {},
   "outputs": [],
   "source": [
    "df = df.withColumn(\"customer_value_total\",\n",
    "                  df.customer_value_total_ever_online + df.customer_value_total_ever_offline)"
   ]
  },
  {
   "cell_type": "code",
   "execution_count": 33,
   "metadata": {},
   "outputs": [
    {
     "data": {
      "text/html": [
       "<div>\n",
       "<style scoped>\n",
       "    .dataframe tbody tr th:only-of-type {\n",
       "        vertical-align: middle;\n",
       "    }\n",
       "\n",
       "    .dataframe tbody tr th {\n",
       "        vertical-align: top;\n",
       "    }\n",
       "\n",
       "    .dataframe thead th {\n",
       "        text-align: right;\n",
       "    }\n",
       "</style>\n",
       "<table border=\"1\" class=\"dataframe\">\n",
       "  <thead>\n",
       "    <tr style=\"text-align: right;\">\n",
       "      <th></th>\n",
       "      <th>_c0</th>\n",
       "      <th>master_id</th>\n",
       "      <th>order_channel</th>\n",
       "      <th>platform_type</th>\n",
       "      <th>last_order_channel</th>\n",
       "      <th>first_order_date</th>\n",
       "      <th>last_order_date</th>\n",
       "      <th>last_order_date_online</th>\n",
       "      <th>last_order_date_offline</th>\n",
       "      <th>order_num_total_ever_online</th>\n",
       "      <th>order_num_total_ever_offline</th>\n",
       "      <th>customer_value_total_ever_offline</th>\n",
       "      <th>customer_value_total_ever_online</th>\n",
       "      <th>interested_in_categories_12</th>\n",
       "      <th>last_order_date_new</th>\n",
       "      <th>order_num_total</th>\n",
       "      <th>customer_value_total</th>\n",
       "    </tr>\n",
       "  </thead>\n",
       "  <tbody>\n",
       "    <tr>\n",
       "      <th>0</th>\n",
       "      <td>0</td>\n",
       "      <td>b3ace094-a17f-11e9-a2fc-000d3a38a36f</td>\n",
       "      <td>Offline</td>\n",
       "      <td>Offline</td>\n",
       "      <td>Offline</td>\n",
       "      <td>2019-02-23 12:59:17</td>\n",
       "      <td>2019-02-23 12:59:17</td>\n",
       "      <td>NaT</td>\n",
       "      <td>2019-02-23 12:59:17</td>\n",
       "      <td>0.0</td>\n",
       "      <td>1.0</td>\n",
       "      <td>212.98</td>\n",
       "      <td>0.00</td>\n",
       "      <td>None</td>\n",
       "      <td>2019-02-23</td>\n",
       "      <td>1.0</td>\n",
       "      <td>212.98</td>\n",
       "    </tr>\n",
       "    <tr>\n",
       "      <th>1</th>\n",
       "      <td>1</td>\n",
       "      <td>c57d7c4c-a950-11e9-a2fc-000d3a38a36f</td>\n",
       "      <td>Offline</td>\n",
       "      <td>OmniChannel</td>\n",
       "      <td>Offline</td>\n",
       "      <td>2019-12-01 16:48:09</td>\n",
       "      <td>2019-12-01 16:48:09</td>\n",
       "      <td>NaT</td>\n",
       "      <td>2019-12-01 16:48:09</td>\n",
       "      <td>0.0</td>\n",
       "      <td>1.0</td>\n",
       "      <td>199.98</td>\n",
       "      <td>0.00</td>\n",
       "      <td>None</td>\n",
       "      <td>2019-12-01</td>\n",
       "      <td>1.0</td>\n",
       "      <td>199.98</td>\n",
       "    </tr>\n",
       "    <tr>\n",
       "      <th>2</th>\n",
       "      <td>2</td>\n",
       "      <td>602897a6-cdac-11ea-b31f-000d3a38a36f</td>\n",
       "      <td>Offline</td>\n",
       "      <td>Offline</td>\n",
       "      <td>Offline</td>\n",
       "      <td>2020-07-24 15:49:47</td>\n",
       "      <td>2020-07-24 15:49:47</td>\n",
       "      <td>NaT</td>\n",
       "      <td>2020-07-24 15:49:47</td>\n",
       "      <td>0.0</td>\n",
       "      <td>1.0</td>\n",
       "      <td>140.49</td>\n",
       "      <td>0.00</td>\n",
       "      <td>[ERKEK]</td>\n",
       "      <td>2020-07-24</td>\n",
       "      <td>1.0</td>\n",
       "      <td>140.49</td>\n",
       "    </tr>\n",
       "    <tr>\n",
       "      <th>3</th>\n",
       "      <td>3</td>\n",
       "      <td>388e4c4e-af86-11e9-a2fc-000d3a38a36f</td>\n",
       "      <td>Mobile</td>\n",
       "      <td>Online</td>\n",
       "      <td>Mobile</td>\n",
       "      <td>2018-12-31 07:22:07</td>\n",
       "      <td>2018-12-31 07:22:07</td>\n",
       "      <td>2018-12-31 07:22:07</td>\n",
       "      <td>NaT</td>\n",
       "      <td>1.0</td>\n",
       "      <td>0.0</td>\n",
       "      <td>0.00</td>\n",
       "      <td>174.99</td>\n",
       "      <td>None</td>\n",
       "      <td>2018-12-31</td>\n",
       "      <td>1.0</td>\n",
       "      <td>174.99</td>\n",
       "    </tr>\n",
       "    <tr>\n",
       "      <th>4</th>\n",
       "      <td>4</td>\n",
       "      <td>80664354-adf0-11eb-8f64-000d3a299ebf</td>\n",
       "      <td>Desktop</td>\n",
       "      <td>Online</td>\n",
       "      <td>Desktop</td>\n",
       "      <td>2021-05-05 21:07:02</td>\n",
       "      <td>2021-05-05 22:39:36</td>\n",
       "      <td>2021-05-05 22:39:36</td>\n",
       "      <td>NaT</td>\n",
       "      <td>2.0</td>\n",
       "      <td>0.0</td>\n",
       "      <td>0.00</td>\n",
       "      <td>283.95</td>\n",
       "      <td>[]</td>\n",
       "      <td>2021-05-05</td>\n",
       "      <td>2.0</td>\n",
       "      <td>283.95</td>\n",
       "    </tr>\n",
       "  </tbody>\n",
       "</table>\n",
       "</div>"
      ],
      "text/plain": [
       "   _c0                             master_id order_channel platform_type  \\\n",
       "0    0  b3ace094-a17f-11e9-a2fc-000d3a38a36f       Offline       Offline   \n",
       "1    1  c57d7c4c-a950-11e9-a2fc-000d3a38a36f       Offline   OmniChannel   \n",
       "2    2  602897a6-cdac-11ea-b31f-000d3a38a36f       Offline       Offline   \n",
       "3    3  388e4c4e-af86-11e9-a2fc-000d3a38a36f        Mobile        Online   \n",
       "4    4  80664354-adf0-11eb-8f64-000d3a299ebf       Desktop        Online   \n",
       "\n",
       "  last_order_channel    first_order_date     last_order_date  \\\n",
       "0            Offline 2019-02-23 12:59:17 2019-02-23 12:59:17   \n",
       "1            Offline 2019-12-01 16:48:09 2019-12-01 16:48:09   \n",
       "2            Offline 2020-07-24 15:49:47 2020-07-24 15:49:47   \n",
       "3             Mobile 2018-12-31 07:22:07 2018-12-31 07:22:07   \n",
       "4            Desktop 2021-05-05 21:07:02 2021-05-05 22:39:36   \n",
       "\n",
       "  last_order_date_online last_order_date_offline  order_num_total_ever_online  \\\n",
       "0                    NaT     2019-02-23 12:59:17                          0.0   \n",
       "1                    NaT     2019-12-01 16:48:09                          0.0   \n",
       "2                    NaT     2020-07-24 15:49:47                          0.0   \n",
       "3    2018-12-31 07:22:07                     NaT                          1.0   \n",
       "4    2021-05-05 22:39:36                     NaT                          2.0   \n",
       "\n",
       "   order_num_total_ever_offline  customer_value_total_ever_offline  \\\n",
       "0                           1.0                             212.98   \n",
       "1                           1.0                             199.98   \n",
       "2                           1.0                             140.49   \n",
       "3                           0.0                               0.00   \n",
       "4                           0.0                               0.00   \n",
       "\n",
       "   customer_value_total_ever_online interested_in_categories_12  \\\n",
       "0                              0.00                        None   \n",
       "1                              0.00                        None   \n",
       "2                              0.00                     [ERKEK]   \n",
       "3                            174.99                        None   \n",
       "4                            283.95                          []   \n",
       "\n",
       "  last_order_date_new  order_num_total  customer_value_total  \n",
       "0          2019-02-23              1.0                212.98  \n",
       "1          2019-12-01              1.0                199.98  \n",
       "2          2020-07-24              1.0                140.49  \n",
       "3          2018-12-31              1.0                174.99  \n",
       "4          2021-05-05              2.0                283.95  "
      ]
     },
     "execution_count": 33,
     "metadata": {},
     "output_type": "execute_result"
    }
   ],
   "source": [
    "df.limit(5).toPandas()"
   ]
  },
  {
   "cell_type": "markdown",
   "metadata": {},
   "source": [
    "## Görev 2: Veri Analizi\n",
    "\n",
    "**Adim 4:** Kanal Incelemesi"
   ]
  },
  {
   "cell_type": "code",
   "execution_count": 41,
   "metadata": {},
   "outputs": [
    {
     "name": "stdout",
     "output_type": "stream",
     "text": [
      "+-------------+----------------+-------------------------+--------------------+\n",
      "|order_channel|count(master_id)|avg(customer_value_total)|avg(order_num_total)|\n",
      "+-------------+----------------+-------------------------+--------------------+\n",
      "|      Offline|           70784|        218.1639484912975|  1.6003475361663653|\n",
      "|      Ios App|            3964|        568.4640312815283|   3.377648839556004|\n",
      "|       Mobile|            8512|        391.7418761748011|   2.798637218045113|\n",
      "|      Desktop|            4751|       376.91355504103785|   2.538623447695222|\n",
      "|  Android App|           11989|        532.8462840937639|    3.50971724080407|\n",
      "+-------------+----------------+-------------------------+--------------------+\n",
      "\n"
     ]
    }
   ],
   "source": [
    "#Kanallardaki toplam müsteri, ortalama alinan ürün ve kazanc dagilimina bakiniz. order_channel\n",
    "\n",
    "df.groupby(\"order_channel\").agg({\"master_id\":\"count\",\n",
    "                                \"order_num_total\":\"mean\",\n",
    "                                \"customer_value_total\":\"mean\"}).show()\n",
    "\n",
    "#avg(\"order_num_total\", \"customer_value_total\").show()\n"
   ]
  },
  {
   "cell_type": "markdown",
   "metadata": {},
   "source": [
    "**Adim 5:** Platforma göre satis degerleri"
   ]
  },
  {
   "cell_type": "code",
   "execution_count": 44,
   "metadata": {
    "collapsed": true
   },
   "outputs": [
    {
     "name": "stdout",
     "output_type": "stream",
     "text": [
      "+-------------+----------------+-------------------------+--------------------+\n",
      "|platform_type|count(master_id)|avg(customer_value_total)|avg(order_num_total)|\n",
      "+-------------+----------------+-------------------------+--------------------+\n",
      "|      Offline|           65991|       215.73030686012984|  1.5837917291751906|\n",
      "|  OmniChannel|           12569|        500.7937512928769|  3.4947092051873656|\n",
      "|       Online|           21440|       404.78965764929046|  2.6207089552238805|\n",
      "+-------------+----------------+-------------------------+--------------------+\n",
      "\n"
     ]
    }
   ],
   "source": [
    "#Platformlardaki toplam müsteri, ortalama alinan ürün ve kazanc dagilimina bakiniz.\n",
    "\n",
    "df.groupby(\"platform_type\").agg({\"master_id\":\"count\",\n",
    "                                \"order_num_total\":\"mean\",\n",
    "                                \"customer_value_total\":\"mean\"}).show()\n",
    "\n",
    "\n",
    "\n",
    "#agg(count(\"master_id\").alias(\"total_customers\"),\n",
    "                               #avg(\"order_num_total\").alias(\"average orders\"),\n",
    "                                #avg(\"customer_value_total\").alias(\"average gain\")\n",
    "                                   #).show()"
   ]
  },
  {
   "cell_type": "markdown",
   "metadata": {},
   "source": [
    "## Görev 3:  K-MeansMetriklerinin Hesaplanmasi"
   ]
  },
  {
   "cell_type": "markdown",
   "metadata": {},
   "source": [
    "**Adim 1:** RFM \n",
    "\n",
    "- master_id, last_order_date_new, order_num_total, customer_value_total değişkenlerinden rfm adında yeni bir dataframe olusturunuz"
   ]
  },
  {
   "cell_type": "code",
   "execution_count": 45,
   "metadata": {},
   "outputs": [],
   "source": [
    "rfm = df.select(\"master_id\", \"last_order_date_new\", \"order_num_total\", \"customer_value_total\")"
   ]
  },
  {
   "cell_type": "code",
   "execution_count": 46,
   "metadata": {},
   "outputs": [
    {
     "data": {
      "text/html": [
       "<div>\n",
       "<style scoped>\n",
       "    .dataframe tbody tr th:only-of-type {\n",
       "        vertical-align: middle;\n",
       "    }\n",
       "\n",
       "    .dataframe tbody tr th {\n",
       "        vertical-align: top;\n",
       "    }\n",
       "\n",
       "    .dataframe thead th {\n",
       "        text-align: right;\n",
       "    }\n",
       "</style>\n",
       "<table border=\"1\" class=\"dataframe\">\n",
       "  <thead>\n",
       "    <tr style=\"text-align: right;\">\n",
       "      <th></th>\n",
       "      <th>master_id</th>\n",
       "      <th>last_order_date_new</th>\n",
       "      <th>order_num_total</th>\n",
       "      <th>customer_value_total</th>\n",
       "    </tr>\n",
       "  </thead>\n",
       "  <tbody>\n",
       "    <tr>\n",
       "      <th>0</th>\n",
       "      <td>b3ace094-a17f-11e9-a2fc-000d3a38a36f</td>\n",
       "      <td>2019-02-23</td>\n",
       "      <td>1.0</td>\n",
       "      <td>212.98</td>\n",
       "    </tr>\n",
       "    <tr>\n",
       "      <th>1</th>\n",
       "      <td>c57d7c4c-a950-11e9-a2fc-000d3a38a36f</td>\n",
       "      <td>2019-12-01</td>\n",
       "      <td>1.0</td>\n",
       "      <td>199.98</td>\n",
       "    </tr>\n",
       "    <tr>\n",
       "      <th>2</th>\n",
       "      <td>602897a6-cdac-11ea-b31f-000d3a38a36f</td>\n",
       "      <td>2020-07-24</td>\n",
       "      <td>1.0</td>\n",
       "      <td>140.49</td>\n",
       "    </tr>\n",
       "    <tr>\n",
       "      <th>3</th>\n",
       "      <td>388e4c4e-af86-11e9-a2fc-000d3a38a36f</td>\n",
       "      <td>2018-12-31</td>\n",
       "      <td>1.0</td>\n",
       "      <td>174.99</td>\n",
       "    </tr>\n",
       "    <tr>\n",
       "      <th>4</th>\n",
       "      <td>80664354-adf0-11eb-8f64-000d3a299ebf</td>\n",
       "      <td>2021-05-05</td>\n",
       "      <td>2.0</td>\n",
       "      <td>283.95</td>\n",
       "    </tr>\n",
       "  </tbody>\n",
       "</table>\n",
       "</div>"
      ],
      "text/plain": [
       "                              master_id last_order_date_new  order_num_total  \\\n",
       "0  b3ace094-a17f-11e9-a2fc-000d3a38a36f          2019-02-23              1.0   \n",
       "1  c57d7c4c-a950-11e9-a2fc-000d3a38a36f          2019-12-01              1.0   \n",
       "2  602897a6-cdac-11ea-b31f-000d3a38a36f          2020-07-24              1.0   \n",
       "3  388e4c4e-af86-11e9-a2fc-000d3a38a36f          2018-12-31              1.0   \n",
       "4  80664354-adf0-11eb-8f64-000d3a299ebf          2021-05-05              2.0   \n",
       "\n",
       "   customer_value_total  \n",
       "0                212.98  \n",
       "1                199.98  \n",
       "2                140.49  \n",
       "3                174.99  \n",
       "4                283.95  "
      ]
     },
     "execution_count": 46,
     "metadata": {},
     "output_type": "execute_result"
    }
   ],
   "source": [
    "rfm.limit(5).toPandas()"
   ]
  },
  {
   "cell_type": "markdown",
   "metadata": {},
   "source": [
    "**Adim 2:** Son satin Alma Tarihi\n",
    "- last_order_date degiskeni üzerinden son satin alma tarihini bulunuz."
   ]
  },
  {
   "cell_type": "code",
   "execution_count": 57,
   "metadata": {},
   "outputs": [
    {
     "data": {
      "text/plain": [
       "datetime.date(2021, 5, 30)"
      ]
     },
     "execution_count": 57,
     "metadata": {},
     "output_type": "execute_result"
    }
   ],
   "source": [
    "#collect önemli!!!, bir veri almak icin collect'i kullanabiliriz!\n",
    "latest_date = df.agg({\"last_order_date\": \"max\"}).collect()[0][0]\n",
    "latest_date.date()"
   ]
  },
  {
   "cell_type": "markdown",
   "metadata": {},
   "source": [
    "**Adim 3:** Recency\n",
    "\n",
    "Son satim alim tarihinden iki gün sonrasi üzerinden, her müsterinin son satin alma sürelerini gün cinsinden hesaplayip, Recency adinda bir degiskende kaydediniz."
   ]
  },
  {
   "cell_type": "code",
   "execution_count": 63,
   "metadata": {},
   "outputs": [
    {
     "name": "stdout",
     "output_type": "stream",
     "text": [
      "+--------------------+-------------------+---------------+--------------------+-------+\n",
      "|           master_id|last_order_date_new|order_num_total|customer_value_total|Recency|\n",
      "+--------------------+-------------------+---------------+--------------------+-------+\n",
      "|b3ace094-a17f-11e...|         2019-02-23|            1.0|              212.98|    829|\n",
      "|c57d7c4c-a950-11e...|         2019-12-01|            1.0|              199.98|    548|\n",
      "|602897a6-cdac-11e...|         2020-07-24|            1.0|              140.49|    312|\n",
      "|388e4c4e-af86-11e...|         2018-12-31|            1.0|              174.99|    883|\n",
      "|80664354-adf0-11e...|         2021-05-05|            2.0|              283.95|     27|\n",
      "+--------------------+-------------------+---------------+--------------------+-------+\n",
      "only showing top 5 rows\n",
      "\n"
     ]
    }
   ],
   "source": [
    "from pyspark.sql.functions import expr\n",
    "\n",
    "rfm = rfm.withColumn(\"Recency\", expr(\"datediff('2021-6-1', last_order_date_new)\"))\n",
    "rfm.show(5)"
   ]
  },
  {
   "cell_type": "markdown",
   "metadata": {},
   "source": [
    "**Adim 4:** Yeniden Isimlendirme\n",
    "\n",
    "- order_num_total degiskenini Frequency\n",
    "- customer_value_total degiskenini Monetary adinda degistiriniz"
   ]
  },
  {
   "cell_type": "code",
   "execution_count": 64,
   "metadata": {},
   "outputs": [
    {
     "name": "stdout",
     "output_type": "stream",
     "text": [
      "+--------------------+-------------------+---------+--------+-------+\n",
      "|           master_id|last_order_date_new|Frequency|Monetary|Recency|\n",
      "+--------------------+-------------------+---------+--------+-------+\n",
      "|b3ace094-a17f-11e...|         2019-02-23|      1.0|  212.98|    829|\n",
      "|c57d7c4c-a950-11e...|         2019-12-01|      1.0|  199.98|    548|\n",
      "|602897a6-cdac-11e...|         2020-07-24|      1.0|  140.49|    312|\n",
      "|388e4c4e-af86-11e...|         2018-12-31|      1.0|  174.99|    883|\n",
      "|80664354-adf0-11e...|         2021-05-05|      2.0|  283.95|     27|\n",
      "+--------------------+-------------------+---------+--------+-------+\n",
      "only showing top 5 rows\n",
      "\n"
     ]
    }
   ],
   "source": [
    "rfm = (rfm.withColumnRenamed(\"order_num_total\", \"Frequency\")\n",
    "      .withColumnRenamed(\"customer_value_total\", \"Monetary\"))\n",
    "\n",
    "rfm.show(5)"
   ]
  },
  {
   "cell_type": "markdown",
   "metadata": {},
   "source": [
    "**Adim 5:** Filtre\n",
    "\n",
    "- last_order_date_new degiskenini rfm dataframe'inden cikariniz"
   ]
  },
  {
   "cell_type": "code",
   "execution_count": 65,
   "metadata": {},
   "outputs": [],
   "source": [
    "rfm = rfm.drop(\"last_order_date_new\")"
   ]
  },
  {
   "cell_type": "code",
   "execution_count": 66,
   "metadata": {},
   "outputs": [
    {
     "name": "stdout",
     "output_type": "stream",
     "text": [
      "+--------------------+---------+--------+-------+\n",
      "|           master_id|Frequency|Monetary|Recency|\n",
      "+--------------------+---------+--------+-------+\n",
      "|b3ace094-a17f-11e...|      1.0|  212.98|    829|\n",
      "|c57d7c4c-a950-11e...|      1.0|  199.98|    548|\n",
      "|602897a6-cdac-11e...|      1.0|  140.49|    312|\n",
      "|388e4c4e-af86-11e...|      1.0|  174.99|    883|\n",
      "|80664354-adf0-11e...|      2.0|  283.95|     27|\n",
      "+--------------------+---------+--------+-------+\n",
      "only showing top 5 rows\n",
      "\n"
     ]
    }
   ],
   "source": [
    "rfm.show(5)"
   ]
  },
  {
   "cell_type": "markdown",
   "metadata": {},
   "source": [
    "## Görev 4: Modele Hazirlik"
   ]
  },
  {
   "cell_type": "markdown",
   "metadata": {},
   "source": [
    "**Adim 1:** Vector Assembler\n",
    "\n",
    "- Recency\n",
    "- Frequency\n",
    "- Monetary\n",
    "\n",
    "degiskenlerine Vector Assembler uygulayiniz"
   ]
  },
  {
   "cell_type": "code",
   "execution_count": 71,
   "metadata": {},
   "outputs": [],
   "source": [
    "from pyspark.ml.feature import VectorAssembler"
   ]
  },
  {
   "cell_type": "code",
   "execution_count": 75,
   "metadata": {},
   "outputs": [],
   "source": [
    "rfm_col = [\"Recency\", \"Frequency\", \"Monetary\"]"
   ]
  },
  {
   "cell_type": "code",
   "execution_count": 76,
   "metadata": {},
   "outputs": [],
   "source": [
    "assembler = (VectorAssembler()\n",
    "             .setHandleInvalid(\"skip\")\n",
    "             .setInputCols(rfm_col).\n",
    "             setOutputCol(\"unscaled_features\"))"
   ]
  },
  {
   "cell_type": "markdown",
   "metadata": {},
   "source": [
    "**Adim 2:** Standart Scaler\n",
    "\n",
    "- Vector Assembler uyguladiginiz degiskenlere Standart Scaler islemini uygulayiniz."
   ]
  },
  {
   "cell_type": "code",
   "execution_count": 80,
   "metadata": {},
   "outputs": [],
   "source": [
    "from pyspark.ml.feature import StandardScaler"
   ]
  },
  {
   "cell_type": "code",
   "execution_count": 81,
   "metadata": {},
   "outputs": [],
   "source": [
    "scaler = StandardScaler().setInputCol(\"unscaled_features\").setOutputCol(\"features\")"
   ]
  },
  {
   "cell_type": "markdown",
   "metadata": {},
   "source": [
    "**Adim 3:** Pipeline\n",
    "- rfm dataframeini kullanarak bir pipeline olusturunuz"
   ]
  },
  {
   "cell_type": "code",
   "execution_count": 82,
   "metadata": {},
   "outputs": [],
   "source": [
    "from pyspark.ml import Pipeline"
   ]
  },
  {
   "cell_type": "code",
   "execution_count": 83,
   "metadata": {},
   "outputs": [],
   "source": [
    "pipeline_obj = Pipeline().setStages([assembler, scaler])"
   ]
  },
  {
   "cell_type": "code",
   "execution_count": 84,
   "metadata": {},
   "outputs": [
    {
     "name": "stdout",
     "output_type": "stream",
     "text": [
      "+--------------------+---------+--------+-------+------------------+--------------------+\n",
      "|           master_id|Frequency|Monetary|Recency| unscaled_features|            features|\n",
      "+--------------------+---------+--------+-------+------------------+--------------------+\n",
      "|b3ace094-a17f-11e...|      1.0|  212.98|    829|[829.0,1.0,212.98]|[3.24793811935259...|\n",
      "|c57d7c4c-a950-11e...|      1.0|  199.98|    548|[548.0,1.0,199.98]|[2.14700855175539...|\n",
      "|602897a6-cdac-11e...|      1.0|  140.49|    312|[312.0,1.0,140.49]|[1.22238443092643...|\n",
      "|388e4c4e-af86-11e...|      1.0|  174.99|    883|[883.0,1.0,174.99]|[3.45950465547448...|\n",
      "|80664354-adf0-11e...|      2.0|  283.95|     27| [27.0,2.0,283.95]|[0.10578326806094...|\n",
      "+--------------------+---------+--------+-------+------------------+--------------------+\n",
      "only showing top 5 rows\n",
      "\n"
     ]
    }
   ],
   "source": [
    "pipeline_model = pipeline_obj.fit(rfm) #ögren\n",
    "\n",
    "transformed_df = pipeline_model.transform(rfm) #uygula\n",
    "\n",
    "transformed_df.show(5)"
   ]
  },
  {
   "cell_type": "markdown",
   "metadata": {},
   "source": [
    "## Görev 5: K-Means\n",
    "\n",
    "**Adim 1:** Optimum Küme Sayisi\n",
    "\n",
    "KMeans küme sayisi ve hatalarini hesaplayip, bir küme sayisi seciniz"
   ]
  },
  {
   "cell_type": "code",
   "execution_count": 85,
   "metadata": {},
   "outputs": [],
   "source": [
    "from pyspark.ml.clustering import KMeans"
   ]
  },
  {
   "cell_type": "code",
   "execution_count": 87,
   "metadata": {},
   "outputs": [],
   "source": [
    "def compute_kmeans_model(df, k):\n",
    "    kmeansObject = KMeans() \\\n",
    "    .setSeed(142) \\\n",
    "    .setK(k)\n",
    "    \n",
    "    return kmeansObject.fit(df)"
   ]
  },
  {
   "cell_type": "markdown",
   "metadata": {},
   "source": [
    "## evaluate Model"
   ]
  },
  {
   "cell_type": "code",
   "execution_count": 88,
   "metadata": {},
   "outputs": [],
   "source": [
    "from pyspark.ml.evaluation import ClusteringEvaluator"
   ]
  },
  {
   "cell_type": "code",
   "execution_count": 89,
   "metadata": {},
   "outputs": [],
   "source": [
    "evaluator = ClusteringEvaluator()"
   ]
  },
  {
   "cell_type": "code",
   "execution_count": 90,
   "metadata": {},
   "outputs": [],
   "source": [
    "score_list = []"
   ]
  },
  {
   "cell_type": "code",
   "execution_count": 92,
   "metadata": {},
   "outputs": [
    {
     "name": "stdout",
     "output_type": "stream",
     "text": [
      "k: 2, score: 0.440326030862553\n",
      "k: 3, score: 0.6549567983919242\n",
      "k: 4, score: 0.6705380055471301\n",
      "k: 5, score: 0.5063361815252156\n",
      "k: 6, score: 0.512413557879143\n",
      "k: 7, score: 0.5471947591534062\n",
      "k: 8, score: 0.5710920011281072\n",
      "k: 9, score: 0.5310175131579817\n",
      "k: 10, score: 0.5571794995718167\n"
     ]
    }
   ],
   "source": [
    "for k in range(2,11):\n",
    "    \n",
    "    kmeans_model = compute_kmeans_model(transformed_df, k)\n",
    "    \n",
    "    evaluated_df = kmeans_model.transform(transformed_df)\n",
    "    \n",
    "    score = evaluator.evaluate(evaluated_df)\n",
    "    score_list.append(score)\n",
    "    \n",
    "    \n",
    "    print(\"k: {}, score: {}\".format(k, score))"
   ]
  },
  {
   "cell_type": "markdown",
   "metadata": {},
   "source": [
    "## Final Model\n",
    "\n",
    "- Sectiginiz Küme Sayisi ile yeni modeli kurunuz"
   ]
  },
  {
   "cell_type": "code",
   "execution_count": 93,
   "metadata": {},
   "outputs": [],
   "source": [
    "#Pyspark siniflandirma icin Silhouette modelini kullaniyor, 1'e yakin olan küme sayisi tercih edilebilir\n",
    "\n",
    "kmeans = (KMeans() \\\n",
    "         .setSeed(142) \\\n",
    "         .setK(4))"
   ]
  },
  {
   "cell_type": "code",
   "execution_count": 94,
   "metadata": {},
   "outputs": [],
   "source": [
    "kmeans_model = kmeans.fit(transformed_df)"
   ]
  },
  {
   "cell_type": "code",
   "execution_count": 95,
   "metadata": {},
   "outputs": [],
   "source": [
    "transformed = kmeans_model.transform(transformed_df)"
   ]
  },
  {
   "cell_type": "code",
   "execution_count": 96,
   "metadata": {},
   "outputs": [
    {
     "name": "stdout",
     "output_type": "stream",
     "text": [
      "+--------------------+---------+------------------+-------+--------------------+--------------------+----------+\n",
      "|           master_id|Frequency|          Monetary|Recency|   unscaled_features|            features|prediction|\n",
      "+--------------------+---------+------------------+-------+--------------------+--------------------+----------+\n",
      "|b3ace094-a17f-11e...|      1.0|            212.98|    829|  [829.0,1.0,212.98]|[3.24793811935259...|         3|\n",
      "|c57d7c4c-a950-11e...|      1.0|            199.98|    548|  [548.0,1.0,199.98]|[2.14700855175539...|         3|\n",
      "|602897a6-cdac-11e...|      1.0|            140.49|    312|  [312.0,1.0,140.49]|[1.22238443092643...|         2|\n",
      "|388e4c4e-af86-11e...|      1.0|            174.99|    883|  [883.0,1.0,174.99]|[3.45950465547448...|         3|\n",
      "|80664354-adf0-11e...|      2.0|            283.95|     27|   [27.0,2.0,283.95]|[0.10578326806094...|         2|\n",
      "|47511f36-aeb4-11e...|      1.0|            139.98|    933|  [933.0,1.0,139.98]|[3.65539959632807...|         3|\n",
      "|77f7c318-3407-11e...|      1.0|             269.9|    182|   [182.0,1.0,269.9]|[0.71305758470708...|         2|\n",
      "|399d6dd2-ecf1-11e...|      1.0|             95.73|    272|   [272.0,1.0,95.73]|[1.06566847824355...|         2|\n",
      "|b3d4a6f2-a368-11e...|      3.0|            207.94|    250|  [250.0,3.0,207.94]|[0.97947470426797...|         2|\n",
      "|42fdccd4-f1d1-11e...|      1.0|            134.95|    226|  [226.0,1.0,134.95]|[0.88544513265824...|         2|\n",
      "|071b497c-a5d2-11e...|      7.0|            399.94|     71|   [71.0,7.0,399.94]|[0.27817081601210...|         2|\n",
      "|47d99768-30ea-11e...|      2.0|            304.89|    667|  [667.0,2.0,304.89]|[2.61323851098695...|         3|\n",
      "|f879c85e-5322-11e...|      1.0|            100.49|    488|  [488.0,1.0,100.49]|[1.91193462273108...|         3|\n",
      "|cfb38c70-b1e7-11e...|      3.0|208.95999999999998|    507|[507.0,3.0,208.95...|[1.98637470025544...|         3|\n",
      "|96cae10c-bbd1-11e...|      2.0|            359.96|    335|  [335.0,2.0,359.96]|[1.31249610371908...|         2|\n",
      "|20df63fa-5411-11e...|      1.0|             39.99|    501|   [501.0,1.0,39.99]|[1.96286730735301...|         3|\n",
      "|757fc81a-7378-11e...|      2.0|            630.94|     67|   [67.0,2.0,630.94]|[0.26249922074381...|         2|\n",
      "|c9fcbc34-d739-11e...|      1.0|            289.99|    300|  [300.0,1.0,289.99]|[1.17536964512156...|         2|\n",
      "|9f44ad8c-21fc-11e...|      1.0|            189.99|    788|  [788.0,1.0,189.99]|[3.08730426785265...|         3|\n",
      "|3fcf9680-9765-11e...|      1.0|             89.99|    385|   [385.0,1.0,89.99]|[1.50839104457267...|         3|\n",
      "+--------------------+---------+------------------+-------+--------------------+--------------------+----------+\n",
      "only showing top 20 rows\n",
      "\n"
     ]
    }
   ],
   "source": [
    "transformed.show()"
   ]
  },
  {
   "cell_type": "markdown",
   "metadata": {},
   "source": [
    "# Adım 3: Tanımlayıcı istatistikler\n",
    "\n",
    "- Oluşturduğunuz kümelerin tanımlayıcı istatistiklerini inceleyiniz.\n"
   ]
  },
  {
   "cell_type": "code",
   "execution_count": 98,
   "metadata": {},
   "outputs": [
    {
     "name": "stdout",
     "output_type": "stream",
     "text": [
      "+----------+-----+------------------+------------------+------------------+\n",
      "|prediction|count|      avg_monetary|       avg_recency|     avg_frequency|\n",
      "+----------+-----+------------------+------------------+------------------+\n",
      "|         1|    6| 31003.60666666667|             343.5|226.83333333333334|\n",
      "|         0| 3493|1677.1947953048953|191.19982822788435|10.410821643286573|\n",
      "|         2|42303| 317.2782289672691|173.50268302484457| 2.090466397182233|\n",
      "|         3|54198|179.76939407365893| 615.3469131702277| 1.447839403668032|\n",
      "+----------+-----+------------------+------------------+------------------+\n",
      "\n"
     ]
    }
   ],
   "source": [
    "from pyspark.sql.functions import sum, col, desc, mean, count\n",
    "\n",
    "transformed.groupby(\"prediction\") \\\n",
    ".agg(count(\"Monetary\"). alias(\"count\"), \\\n",
    "    mean(\"Monetary\"). alias(\"avg_monetary\"), \\\n",
    "    mean(\"Recency\").alias(\"avg_recency\"), \\\n",
    "    mean(\"Frequency\").alias(\"avg_frequency\")) \\\n",
    ".sort(desc(\"avg_monetary\")) \\\n",
    ".show()"
   ]
  },
  {
   "cell_type": "code",
   "execution_count": null,
   "metadata": {},
   "outputs": [],
   "source": []
  }
 ],
 "metadata": {
  "kernelspec": {
   "display_name": "venvspark",
   "language": "python",
   "name": "venvspark"
  },
  "language_info": {
   "codemirror_mode": {
    "name": "ipython",
    "version": 3
   },
   "file_extension": ".py",
   "mimetype": "text/x-python",
   "name": "python",
   "nbconvert_exporter": "python",
   "pygments_lexer": "ipython3",
   "version": "3.6.8"
  }
 },
 "nbformat": 4,
 "nbformat_minor": 4
}
